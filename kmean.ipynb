{
 "cells": [
  {
   "cell_type": "code",
   "execution_count": 4,
   "metadata": {},
   "outputs": [],
   "source": [
    "import numpy as np\n",
    "\n",
    "\n",
    "class KMeansClustering:\n",
    "    def __init__(self, X, num_clusters = 2):\n",
    "        self.K = num_clusters \n",
    "        self.max_iterations = 500 \n",
    "        self.num_examples, self.num_features = X.shape \n",
    "    \n",
    "    def distance(self,point, centroids):\n",
    "        dist = np.sqrt(np.sum((point - centroids) ** 2, axis = 1))\n",
    "        return dist\n",
    "\n",
    "    def initialize_random_centroids(self, X):\n",
    "        centroids = np.zeros((self.K, self.num_features))  \n",
    "        for k in range(self.K): \n",
    "            centroid = X[np.random.choice(range(self.num_examples))] \n",
    "            centroids[k] = centroid\n",
    "        return centroids \n",
    "    \n",
    "    def create_cluster(self, X, centroids):\n",
    "        clusters = [[] for _ in range(self.K)]\n",
    "        for point_idx, point in enumerate(X):\n",
    "            closest_centroid = np.argmin(\n",
    "                self.distance(point, centroids)\n",
    "            ) \n",
    "            clusters[closest_centroid].append(point_idx)\n",
    "        return clusters \n",
    "    \n",
    "    def calculate_new_centroids(self, cluster, X):\n",
    "        centroids = np.zeros((self.K, self.num_features)) \n",
    "        for idx, cluster in enumerate(cluster):\n",
    "            new_centroid = np.mean(X[cluster], axis=0)\n",
    "            centroids[idx] = new_centroid\n",
    "        return centroids\n",
    "\n",
    "    def fit(self, X):\n",
    "        centroids = self.initialize_random_centroids(X) \n",
    "        for _ in range(self.max_iterations):\n",
    "            clusters = self.create_cluster(X, centroids) \n",
    "            previous_centroids = centroids\n",
    "            centroids = self.calculate_new_centroids(clusters, X) \n",
    "            diff = centroids - previous_centroids \n",
    "            if not diff.any():\n",
    "                break\n",
    "        self.clusters = clusters\n",
    "        self.centroids = centroids\n",
    "        return centroids\n",
    "    \n",
    "    def predict(self, X):\n",
    "        return self.clusters"
   ]
  },
  {
   "cell_type": "code",
   "execution_count": 8,
   "metadata": {},
   "outputs": [
    {
     "name": "stdout",
     "output_type": "stream",
     "text": [
      "[[2.  3.2 2.8]\n",
      " [3.4 1.  1.2]]\n",
      "[[0, 3, 4, 5, 6], [1, 2, 7, 8, 9]]\n",
      "Cluster  1 :\n",
      "[0, 4, 1]  \n",
      "[2, 3, 2]  \n",
      "[2, 4, 1]  \n",
      "[2, 3, 4]  \n",
      "[4, 2, 6]  \n",
      "Cluster  2 :\n",
      "[4, 1, 0]  \n",
      "[3, 2, 0]  \n",
      "[4, 1, 2]  \n",
      "[3, 1, 2]  \n",
      "[3, 0, 2]  \n"
     ]
    }
   ],
   "source": [
    "X = [[0,4,1],[1,3,3],[4,0,2],[3,1,4],[2,1,2],[0,4,2], [1,2,3],[4,0,3],[3,2,4],[2,3,4]]\n",
    "k = 3\n",
    "kmean = KMeansClustering(X = np.asarray(X), num_clusters = k)\n",
    "centroids = kmean.fit(np.asarray(X))\n",
    "clusters = kmean.predict(np.asarray(X))\n",
    "print(centroids)\n",
    "print(clusters)\n",
    "for i, cluster in enumerate(clusters):\n",
    "    print(\"Cluster \", i + 1, \":\")\n",
    "    for value in cluster:\n",
    "        print(X[value], \" \")"
   ]
  }
 ],
 "metadata": {
  "kernelspec": {
   "display_name": "tf",
   "language": "python",
   "name": "python3"
  },
  "language_info": {
   "codemirror_mode": {
    "name": "ipython",
    "version": 3
   },
   "file_extension": ".py",
   "mimetype": "text/x-python",
   "name": "python",
   "nbconvert_exporter": "python",
   "pygments_lexer": "ipython3",
   "version": "3.9.13"
  },
  "orig_nbformat": 4,
  "vscode": {
   "interpreter": {
    "hash": "52ee2977380704a66854748a73250e0671a9318bd5b3fd45a3df9f851ae61629"
   }
  }
 },
 "nbformat": 4,
 "nbformat_minor": 2
}
