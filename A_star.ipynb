{
 "cells": [
  {
   "cell_type": "code",
   "execution_count": 1,
   "metadata": {},
   "outputs": [],
   "source": [
    "import numpy as np\n",
    "import string\n",
    "from queue import PriorityQueue"
   ]
  },
  {
   "cell_type": "code",
   "execution_count": 2,
   "metadata": {},
   "outputs": [],
   "source": [
    "# A, B, C, D, E, F, G, H, I ,J, K, L, M, N, O, P, Q, R, S, T, U, V, W, X, Y, Z\n",
    "nodes = [letter for letter in string.ascii_uppercase]\n",
    "graph = np.zeros(shape = (len(nodes), len(nodes)))\n",
    "w_nodes = np.asarray([9,8,7,6,5,4,10,10,6,0,3,9,0,10,0,0,0,0,10,0,0,0,0,0,0,8])\n"
   ]
  },
  {
   "cell_type": "code",
   "execution_count": 3,
   "metadata": {},
   "outputs": [],
   "source": [
    "def add_edges(letter1, letter2,value):\n",
    "    graph[ord(letter1) - 65][ord(letter2) - 65] = value\n",
    "    graph[ord(letter2) - 65][ord(letter2) - 65] = value\n",
    "\n",
    "add_edges(\"S\",\"A\",5)\n",
    "add_edges(\"S\",\"B\",6)\n",
    "add_edges(\"S\",\"C\",5)\n",
    "add_edges(\"A\",\"D\",6)\n",
    "add_edges(\"A\",\"E\",7)\n",
    "add_edges(\"D\",\"M\",5)\n",
    "add_edges(\"D\",\"N\",8)\n",
    "add_edges(\"E\",\"I\",8)\n",
    "add_edges(\"B\",\"F\",3)\n",
    "add_edges(\"B\",\"G\",4)\n",
    "add_edges(\"F\",\"J\",4)\n",
    "add_edges(\"F\",\"L\",4)\n",
    "add_edges(\"C\",\"H\",6)\n",
    "add_edges(\"C\",\"K\",4)\n",
    "add_edges(\"K\",\"Z\",2)"
   ]
  },
  {
   "cell_type": "code",
   "execution_count": 4,
   "metadata": {},
   "outputs": [],
   "source": [
    "def delete_node(letter):\n",
    "    nodes[ord(letter) - 65] = 0\n",
    "delete_node(\"O\")\n",
    "delete_node(\"P\")\n",
    "delete_node(\"Q\")\n",
    "delete_node(\"R\")\n",
    "delete_node(\"T\")\n",
    "delete_node(\"U\")\n",
    "delete_node(\"V\")\n",
    "delete_node(\"W\")\n",
    "delete_node(\"X\")\n",
    "delete_node(\"Y\")"
   ]
  },
  {
   "cell_type": "code",
   "execution_count": 32,
   "metadata": {},
   "outputs": [],
   "source": [
    "visited = np.zeros(shape = (len(nodes)))\n",
    "def A_star(graphs, source, target):\n",
    "    g = 0\n",
    "    h = w_nodes[ord(source) - 65]\n",
    "    Q = PriorityQueue()\n",
    "    f = g + h\n",
    "    Q.put(((f,g),source, None))\n",
    "    start = source\n",
    "    closed = {source}\n",
    "    while (not Q.empty()):\n",
    "        loc = Q.get()\n",
    "        v = ord(loc[1]) - 65\n",
    "        if (loc[1] == target):\n",
    "            break\n",
    "        for i in range(len(nodes)):\n",
    "            if (graph[v][i] != 0 and nodes[i] not in closed):\n",
    "                g = loc[0][1] + graph[v][i]\n",
    "                h = w_nodes[v]\n",
    "                f = g + h\n",
    "                Q.put(((f,g),nodes[i],loc, None))\n",
    "                closed.add(nodes[i])\n",
    "    return loc"
   ]
  },
  {
   "cell_type": "code",
   "execution_count": 37,
   "metadata": {},
   "outputs": [
    {
     "name": "stdout",
     "output_type": "stream",
     "text": [
      "Duong di tu S den J\n",
      "S\n",
      "B\n",
      "F\n",
      "J\n",
      "Duong di tu S den M\n",
      "S\n",
      "A\n",
      "D\n",
      "M\n"
     ]
    }
   ],
   "source": [
    "def reverse_print(path,target):\n",
    "    if path[2] != None:\n",
    "        reverse_print(path[2],target)\n",
    "        print(path[1])\n",
    "for index in range(len(w_nodes)):\n",
    "    if nodes[index] != 0 and w_nodes[index] == 0:\n",
    "        print(\"Duong di tu S den\", nodes[index])\n",
    "        print(\"S\")\n",
    "        path = A_star(graph, \"S\", nodes[index])\n",
    "        reverse_print(path,nodes[index])"
   ]
  }
 ],
 "metadata": {
  "kernelspec": {
   "display_name": "tf",
   "language": "python",
   "name": "python3"
  },
  "language_info": {
   "codemirror_mode": {
    "name": "ipython",
    "version": 3
   },
   "file_extension": ".py",
   "mimetype": "text/x-python",
   "name": "python",
   "nbconvert_exporter": "python",
   "pygments_lexer": "ipython3",
   "version": "3.9.13"
  },
  "orig_nbformat": 4,
  "vscode": {
   "interpreter": {
    "hash": "52ee2977380704a66854748a73250e0671a9318bd5b3fd45a3df9f851ae61629"
   }
  }
 },
 "nbformat": 4,
 "nbformat_minor": 2
}
