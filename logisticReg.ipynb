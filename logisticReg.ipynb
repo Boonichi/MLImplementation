{
 "cells": [
  {
   "cell_type": "code",
   "execution_count": 22,
   "metadata": {},
   "outputs": [],
   "source": [
    "from sklearn import datasets\n",
    "import numpy as np\n",
    "import math\n",
    "import pandas as pd\n",
    "input = pd.read_csv(\"input.csv\")\n",
    "Y = input[\"Labeling\"]\n",
    "X = input.drop(columns=[\"Labeling\"])\n",
    "X = np.asarray(X)\n",
    "Y = np.asarray(Y)"
   ]
  },
  {
   "cell_type": "code",
   "execution_count": 29,
   "metadata": {},
   "outputs": [],
   "source": [
    "output = pd.read_csv(\"output_02.csv\")\n",
    "Y_test = output[\"Labeling\"]\n",
    "X_test = output.drop(columns=[\"Labeling\"])\n",
    "X_test = np.asarray(X_test)\n",
    "Y_test = np.asarray(Y_test)"
   ]
  },
  {
   "cell_type": "code",
   "execution_count": 24,
   "metadata": {},
   "outputs": [],
   "source": [
    "num_class = len(np.unique(Y))\n",
    "classes = dict()\n",
    "cnt = 0\n",
    "for index,value in enumerate(np.unique(Y)):\n",
    "    classes[value] = cnt\n",
    "    cnt+=1"
   ]
  },
  {
   "cell_type": "code",
   "execution_count": 26,
   "metadata": {},
   "outputs": [],
   "source": [
    "class LogisticReg():\n",
    "    def __init__(self, lr, iters, num_class, classes):\n",
    "        self.lr = lr\n",
    "        self.num_class = num_class\n",
    "        self.iters = iters\n",
    "        self.classes = classes\n",
    "        \n",
    "    def sigmoid(self,Z):\n",
    "        Z = Z.astype(float)\n",
    "        return 1 / (1 + np.exp(-Z))\n",
    "\n",
    "    def convert_labels(self, Y):\n",
    "        res = np.zeros(shape = (Y.shape[0],self.num_class))\n",
    "        for i, value in enumerate(Y): res[i][self.classes[value]] = 1\n",
    "\n",
    "        return res\n",
    "\n",
    "    def fit(self,X,Y):\n",
    "        X = np.insert(X, 0, 1, axis = 1) #add Bias\n",
    "        self.m , self.n =  X.shape\n",
    "        self.X = X\n",
    "        self.Y = self.convert_labels(Y)\n",
    "\n",
    "        limit = np.sqrt(2 / self.m)\n",
    "        self.W = np.random.uniform(-limit, limit, (self.n, self.num_class))\n",
    "\n",
    "        for _ in range(self.iters):\n",
    "            y_preds = self.sigmoid(self.X.dot(self.W))\n",
    "            \n",
    "            gradients = self.X.T.dot(y_preds - self.Y)\n",
    "\n",
    "            self.W -= self.lr * gradients\n",
    "\n",
    "        return self\n",
    "    \n",
    "    def predict(self, X):\n",
    "\n",
    "        X = np.insert(X, 0 ,1, axis = 1)\n",
    "        probas = self.sigmoid(X.dot(self.W))\n",
    "\n",
    "        return np.argmax(probas, axis=1)\n",
    "        "
   ]
  },
  {
   "cell_type": "code",
   "execution_count": 27,
   "metadata": {},
   "outputs": [],
   "source": [
    "\n",
    "def accuracy(y_pred, y_actual,classes):\n",
    "    right = 0\n",
    "    wrong = 0\n",
    "    for index in range(len(y_pred)):\n",
    "        if (y_pred[index] == classes[y_actual[index]]):\n",
    "            right+=1\n",
    "        else:\n",
    "            wrong+=1\n",
    "\n",
    "    return (right  / (right + wrong))"
   ]
  },
  {
   "cell_type": "code",
   "execution_count": 40,
   "metadata": {},
   "outputs": [
    {
     "name": "stdout",
     "output_type": "stream",
     "text": [
      "[5.1 3.5 1.4 0.2] Iris-setosa\n",
      "[4.9 3.  1.4 0.2] Iris-setosa\n",
      "[4.7 3.2 1.3 0.2] Iris-setosa\n",
      "[4.6 3.1 1.5 0.2] Iris-setosa\n",
      "[5.  3.6 1.4 0.2] Iris-setosa\n",
      "[5.7 3.  4.2 1.2] Iris-versicolor\n",
      "[5.7 2.9 4.2 1.3] Iris-versicolor\n",
      "[6.2 2.9 4.3 1.3] Iris-versicolor\n",
      "[5.1 2.5 3.  1.1] Iris-versicolor\n",
      "[5.7 2.8 4.1 1.3] Iris-versicolor\n"
     ]
    }
   ],
   "source": [
    "LR = LogisticReg(0.0001, 500, num_class,classes)\n",
    "LR.fit(X,Y)\n",
    "y_pred = LR.predict(X_test)\n",
    "for index in range(len(y_pred)): \n",
    "    \n",
    "    print(X_test[index],list(classes.keys())[list(classes.values()).index(y_pred[index])])"
   ]
  }
 ],
 "metadata": {
  "kernelspec": {
   "display_name": "tf",
   "language": "python",
   "name": "python3"
  },
  "language_info": {
   "codemirror_mode": {
    "name": "ipython",
    "version": 3
   },
   "file_extension": ".py",
   "mimetype": "text/x-python",
   "name": "python",
   "nbconvert_exporter": "python",
   "pygments_lexer": "ipython3",
   "version": "3.9.13"
  },
  "orig_nbformat": 4,
  "vscode": {
   "interpreter": {
    "hash": "52ee2977380704a66854748a73250e0671a9318bd5b3fd45a3df9f851ae61629"
   }
  }
 },
 "nbformat": 4,
 "nbformat_minor": 2
}
