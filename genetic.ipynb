{
 "cells": [
  {
   "cell_type": "code",
   "execution_count": 1,
   "metadata": {},
   "outputs": [
    {
     "data": {
      "image/png": "[encoded data removed]",
      "text/plain": [
       "<Figure size 640x480 with 1 Axes>"
      ]
     },
     "metadata": {},
     "output_type": "display_data"
    }
   ],
   "source": [
    "import random\n",
    "import numpy as np\n",
    "import matplotlib.pyplot as plt\n",
    "\n",
    "\n",
    "def generate_value():\n",
    "    return random.randint(0, 1)\n",
    "\n",
    "\n",
    "def generate_vector(n):\n",
    "    vector = [generate_value() for i in range(n)]\n",
    "    return vector\n",
    "\n",
    "\n",
    "def generate_population(n, m):\n",
    "    population = []\n",
    "    for i in range(m):\n",
    "        population.append(generate_vector(n))\n",
    "    return population\n",
    "\n",
    "\n",
    "def fitness_function(vector):\n",
    "    return sum(vector)\n",
    "\n",
    "\n",
    "def selection(sorted_population):\n",
    "    index1 = random.randint(0, len(sorted_population) - 1)\n",
    "    while True:\n",
    "        index2 = random.randint(0, len(sorted_population) - 1)\n",
    "        if index1 != index2:\n",
    "            break\n",
    "    return sorted_population[index2] if index2 > index1 else sorted_population[index1]\n",
    "\n",
    "\n",
    "def crossover(chromosome1, chromosome2, crossover_rate=0.9):\n",
    "    new_chromosome1 = chromosome1.copy()\n",
    "    new_chromosome2 = chromosome2.copy()\n",
    "\n",
    "    for i in range(len(chromosome1)):\n",
    "        if random.random() < crossover_rate:\n",
    "            new_chromosome1[i] = chromosome2[i]\n",
    "            new_chromosome2[i] = chromosome1[i]\n",
    "    return new_chromosome1, new_chromosome2\n",
    "\n",
    "\n",
    "def mutation(chromosome, mutation_rate=0.05):\n",
    "    new_chromosome = chromosome.copy()\n",
    "    for i in range(len(chromosome)):\n",
    "        if random.random() < mutation_rate:\n",
    "            new_chromosome[i] = generate_value()\n",
    "    return new_chromosome\n",
    "\n",
    "\n",
    "if __name__ == \"__main__\":\n",
    "\n",
    "    # generate population with 20 chromosomes\n",
    "    population = generate_population(20, 20)\n",
    "    fitnesses = []\n",
    "    for i in range(50):\n",
    "        sorted_population = sorted(population, key=fitness_function)\n",
    "        fitnesses.append(fitness_function(sorted_population[-1]))\n",
    "        # take two best chromosome of old population\n",
    "        # elitism\n",
    "        the_best_two = sorted_population[-2:]\n",
    "\n",
    "        new_population = []\n",
    "        for chromosome in the_best_two:\n",
    "            new_population.append(chromosome)\n",
    "        while len(new_population) < 18:\n",
    "            # selection\n",
    "            chromosome1 = selection(sorted_population)\n",
    "            chromosome2 = selection(sorted_population)\n",
    "\n",
    "            # crossover\n",
    "            chromosome1, chromosome2 = crossover(chromosome1, chromosome2)\n",
    "\n",
    "            # mutation\n",
    "            chromosome1 = mutation(chromosome1)\n",
    "            chromosome2 = mutation(chromosome2)\n",
    "\n",
    "            new_population.append(chromosome1)\n",
    "            new_population.append(chromosome2)\n",
    "        population = new_population\n",
    "\n",
    "    x = np.arange(50)\n",
    "    plt.plot(x, fitnesses)\n",
    "    plt.show()\n"
   ]
  }
 ],
 "metadata": {
  "kernelspec": {
   "display_name": "tf",
   "language": "python",
   "name": "python3"
  },
  "language_info": {
   "codemirror_mode": {
    "name": "ipython",
    "version": 3
   },
   "file_extension": ".py",
   "mimetype": "text/x-python",
   "name": "python",
   "nbconvert_exporter": "python",
   "pygments_lexer": "ipython3",
   "version": "3.9.13"
  },
  "orig_nbformat": 4,
  "vscode": {
   "interpreter": {
    "hash": "52ee2977380704a66854748a73250e0671a9318bd5b3fd45a3df9f851ae61629"
   }
  }
 },
 "nbformat": 4,
 "nbformat_minor": 2
}
