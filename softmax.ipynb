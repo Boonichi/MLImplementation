{
 "cells": [
  {
   "cell_type": "code",
   "execution_count": 3,
   "metadata": {},
   "outputs": [],
   "source": [
    "import numpy as np\n",
    "from sklearn import datasets"
   ]
  },
  {
   "cell_type": "code",
   "execution_count": 4,
   "metadata": {},
   "outputs": [],
   "source": [
    "dataset = datasets.load_iris()\n",
    "X = dataset.data\n",
    "Y = dataset.target"
   ]
  },
  {
   "cell_type": "code",
   "execution_count": 77,
   "metadata": {},
   "outputs": [],
   "source": [
    "class SmaxReg():\n",
    "    def __init__(self, lr, iters, num_class):\n",
    "        self.lr = lr\n",
    "        self.num_class = num_class\n",
    "        self.iters = iters\n",
    "    def softmax(self,Z):\n",
    "        e_Z = np.exp(Z - np.max(Z, axis=1, keepdims=True)) \n",
    "\n",
    "        return e_Z / np.sum(e_Z, axis=1, keepdims=True)\n",
    "\n",
    "    def convert_labels(self, Y):\n",
    "        res = np.zeros(shape = (Y.shape[0],self.num_class))\n",
    "        for i, value in enumerate(Y): res[i][value] = 1\n",
    "\n",
    "        return res\n",
    "\n",
    "    def fit(self,X,Y):\n",
    "        X = np.insert(X, 0, 1, axis = 1)\n",
    "        self.m , self.n =  X.shape\n",
    "        self.X = X\n",
    "        self.Y = self.convert_labels(Y)\n",
    "\n",
    "        limit = np.sqrt(2 / self.m)\n",
    "        self.W = np.random.uniform(-limit, limit, (self.n, self.num_class))\n",
    "\n",
    "        for _ in range(self.iters):\n",
    "            y_preds = self.softmax(self.X.dot(self.W))\n",
    "            \n",
    "            gradients = self.X.T.dot(y_preds - self.Y)\n",
    "\n",
    "            self.W -= self.lr * gradients\n",
    "\n",
    "        return self\n",
    "    \n",
    "    def predict(self, X):\n",
    "\n",
    "        X = np.insert(X, 0 ,1, axis = 1)\n",
    "        probas = self.softmax(X.dot(self.W))\n",
    "\n",
    "        return np.argmax(probas, axis=1)\n",
    "        "
   ]
  },
  {
   "cell_type": "code",
   "execution_count": 83,
   "metadata": {},
   "outputs": [],
   "source": [
    "def accuracy(y_pred, y_actual):\n",
    "    right = 0\n",
    "    wrong = 0\n",
    "    for index in range(len(y_pred)):\n",
    "        if (y_pred[index] == y_actual[index]):\n",
    "            right+=1\n",
    "        else:\n",
    "            wrong+=1\n",
    "\n",
    "    return (right  / (right + wrong))"
   ]
  },
  {
   "cell_type": "code",
   "execution_count": 85,
   "metadata": {},
   "outputs": [
    {
     "name": "stdout",
     "output_type": "stream",
     "text": [
      "0.9533333333333334\n"
     ]
    }
   ],
   "source": [
    "num_class = len(np.unique(Y))\n",
    "softmax = SmaxReg(0.05, 1000, num_class)\n",
    "softmax.fit(X,Y)\n",
    "y_pred = softmax.predict(X)\n",
    "print(accuracy(y_pred, Y))"
   ]
  },
  {
   "cell_type": "code",
   "execution_count": null,
   "metadata": {},
   "outputs": [],
   "source": []
  }
 ],
 "metadata": {
  "kernelspec": {
   "display_name": "tf",
   "language": "python",
   "name": "python3"
  },
  "language_info": {
   "codemirror_mode": {
    "name": "ipython",
    "version": 3
   },
   "file_extension": ".py",
   "mimetype": "text/x-python",
   "name": "python",
   "nbconvert_exporter": "python",
   "pygments_lexer": "ipython3",
   "version": "3.9.13 | packaged by conda-forge | (main, May 27 2022, 17:00:33) \n[Clang 13.0.1 ]"
  },
  "orig_nbformat": 4,
  "vscode": {
   "interpreter": {
    "hash": "52ee2977380704a66854748a73250e0671a9318bd5b3fd45a3df9f851ae61629"
   }
  }
 },
 "nbformat": 4,
 "nbformat_minor": 2
}
