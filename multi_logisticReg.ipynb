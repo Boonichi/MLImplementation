{
 "cells": [
  {
   "cell_type": "code",
   "execution_count": 1,
   "metadata": {},
   "outputs": [],
   "source": [
    "import numpy as np\n",
    "import math\n",
    "import pandas as pd\n",
    "from sklearn.model_selection import train_test_split\n",
    "import time"
   ]
  },
  {
   "cell_type": "code",
   "execution_count": 2,
   "metadata": {},
   "outputs": [],
   "source": [
    "data = pd.read_csv(\"iris.data\", names = [\"f1\",\"f2\",\"f3\",\"f4\",\"class\"])\n",
    "Y = data[\"class\"]\n",
    "X = data.drop(columns=[\"class\"])\n",
    "X = np.asarray(X)\n",
    "Y = np.asarray(Y)\n",
    "X_train, X_test, Y_train, Y_test = train_test_split(X,Y,test_size=0.2)\n",
    "num_class = len(np.unique(Y))\n",
    "classes = dict()\n",
    "cnt = 0\n",
    "for index,value in enumerate(np.unique(Y)):\n",
    "    classes[value] = cnt\n",
    "    cnt+=1"
   ]
  },
  {
   "cell_type": "code",
   "execution_count": 3,
   "metadata": {},
   "outputs": [],
   "source": [
    "def accuracy(y_pred, y_actual,classes):\n",
    "    right = 0\n",
    "    wrong = 0\n",
    "    for index in range(len(y_pred)):\n",
    "        if (y_pred[index] == classes[y_actual[index]]):\n",
    "            right+=1\n",
    "        else:\n",
    "            wrong+=1\n",
    "\n",
    "    return (right  / (right + wrong))\n",
    "\n",
    "def convert_labels( Y):\n",
    "        res = np.zeros(shape = (Y.shape[0],num_class))\n",
    "        for i, value in enumerate(Y): res[i][classes[value]] = 1\n",
    "\n",
    "        return res"
   ]
  },
  {
   "cell_type": "code",
   "execution_count": 4,
   "metadata": {},
   "outputs": [],
   "source": [
    "tmpY_train = convert_labels(Y_train)\n",
    "tmpY_test = convert_labels(Y_test)"
   ]
  },
  {
   "cell_type": "code",
   "execution_count": 5,
   "metadata": {},
   "outputs": [],
   "source": [
    "class PythonLogisticReg():\n",
    "    def __init__(self, lr, iters, num_class, classes):\n",
    "        self.lr = lr\n",
    "        self.num_class = num_class\n",
    "        self.iters = iters\n",
    "        self.classes = classes\n",
    "    \n",
    "    def softmax_s(self, input):\n",
    "        temp = [math.exp(v) for v in input]\n",
    "        total = sum(temp)\n",
    "        return [t / total for t in temp]\n",
    "\n",
    "    def softmax(self,Z):\n",
    "        res = []\n",
    "        for i in range(len(Z)):\n",
    "            res.append(self.softmax_s(Z[i]))\n",
    "\n",
    "        return res\n",
    "        \n",
    "    def dot(self, X, Y):\n",
    "        res = self.init_matrix(len(X),len(Y[0]))\n",
    "        for i in range(len(X)):\n",
    "            for j in range(len(Y[0])):\n",
    "                for k in range(len(Y)):\n",
    "                    res[i][j] += X[i][k] * Y[k][j]\n",
    "        return res\n",
    "    def argmax(self,X):\n",
    "        res = [0 for i in range(len(X))]\n",
    "        for i in range(len(X)):\n",
    "            max_v = -100000000\n",
    "            max_i = 0\n",
    "            for j in range(len(X[0])):\n",
    "                if X[i][j] > max_v:\n",
    "                    max_v = X[i][j]\n",
    "                    max_i = j\n",
    "            res[i] = max_i\n",
    "        return res\n",
    "    \n",
    "    def init_matrix(self, n, m):\n",
    "        res = []\n",
    "        for i in range(n):\n",
    "            tmp = []\n",
    "            for j in range(m):\n",
    "                tmp.append(0)\n",
    "            res.append(tmp)\n",
    "        return res\n",
    "    \n",
    "    def convert_labels(self, Y):\n",
    "        res = self.init_matrix(len(Y), self.num_class)\n",
    "\n",
    "        for i in range(len(Y)):\n",
    "            index = self.classes[Y[i]]\n",
    "            res[i][index] = 1\n",
    "\n",
    "        return res\n",
    "    \n",
    "    def gradients(self,X,Y):\n",
    "        return self.dot(X,Y)\n",
    "    \n",
    "    def subtract(self, X, Y):\n",
    "        for i in range(len(X)):\n",
    "            for j in range(len(X[0])):\n",
    "                X[i][j]-=Y[i][j]\n",
    "        return X\n",
    "    \n",
    "    def transpose(self,X):\n",
    "        return [[X[j][i] for j in range(len(X))] for i in range(len(X[0]))]\n",
    "    \n",
    "    def fit(self,X,Y):\n",
    "        self.X = X\n",
    "        self.n = len(X)\n",
    "        self.m = len(X[0])\n",
    "        self.Y = self.convert_labels(Y)\n",
    "        self.W = self.init_matrix(self.m, self.num_class)\n",
    "\n",
    "        for _ in range(self.iters):\n",
    "            \n",
    "            y_pred = self.softmax(self.dot(X,self.W))\n",
    "            \n",
    "            gradient = self.gradients(self.transpose(X), self.subtract(y_pred,self.Y))\n",
    "\n",
    "            for i in range(len(gradient)):\n",
    "                for j in range(len(gradient[0])):\n",
    "                    gradient[i][j] *= self.lr\n",
    "            self.W  = self.subtract(self.W,gradient)\n",
    "\n",
    "        return self\n",
    "    \n",
    "    def predict(self,X):\n",
    "        probas = self.softmax(self.dot(X, self.W))\n",
    "        \n",
    "        return self.argmax(probas)"
   ]
  },
  {
   "cell_type": "code",
   "execution_count": 6,
   "metadata": {},
   "outputs": [],
   "source": [
    "class NumpyLogisticReg():\n",
    "    def __init__(self, lr, iters, num_class, classes):\n",
    "        self.lr = lr\n",
    "        self.num_class = num_class\n",
    "        self.iters = iters\n",
    "        self.classes = classes\n",
    "        \n",
    "    def softmax(self,Z):\n",
    "        e_Z = np.exp(Z - np.max(Z, axis=1, keepdims=True)) \n",
    "\n",
    "        return e_Z / np.sum(e_Z, axis=1, keepdims=True)\n",
    "\n",
    "    def convert_labels(self, Y):\n",
    "        res = np.zeros(shape = (Y.shape[0],self.num_class))\n",
    "        for i, value in enumerate(Y): res[i][self.classes[value]] = 1\n",
    "\n",
    "        return res\n",
    "\n",
    "    def fit(self,X,Y):\n",
    "        self.m , self.n =  X.shape\n",
    "        self.X = X\n",
    "        self.Y = self.convert_labels(Y)\n",
    "        \n",
    "        self.W = np.zeros(shape = (self.n, self.num_class))\n",
    "\n",
    "        for _ in range(self.iters):\n",
    "            y_preds = self.softmax(self.X.dot(self.W))\n",
    "            \n",
    "            gradients = self.X.T.dot(y_preds - self.Y)\n",
    "\n",
    "            self.W -= self.lr * gradients\n",
    "\n",
    "        return self\n",
    "    \n",
    "    def predict(self, X):\n",
    "\n",
    "        probas = self.softmax(X.dot(self.W))\n",
    "\n",
    "        return np.argmax(probas, axis=1)\n",
    "        "
   ]
  },
  {
   "cell_type": "code",
   "execution_count": 7,
   "metadata": {},
   "outputs": [
    {
     "name": "stdout",
     "output_type": "stream",
     "text": [
      "Metal device set to: Apple M1\n",
      "\n",
      "systemMemory: 16.00 GB\n",
      "maxCacheSize: 5.33 GB\n",
      "\n",
      "Model: \"model\"\n",
      "_________________________________________________________________\n",
      " Layer (type)                Output Shape              Param #   \n",
      "=================================================================\n",
      " input_1 (InputLayer)        [(None, 4)]               0         \n",
      "                                                                 \n",
      " dense (Dense)               (None, 3)                 15        \n",
      "                                                                 \n",
      "=================================================================\n",
      "Total params: 15\n",
      "Trainable params: 15\n",
      "Non-trainable params: 0\n",
      "_________________________________________________________________\n"
     ]
    },
    {
     "name": "stderr",
     "output_type": "stream",
     "text": [
      "2023-03-09 07:22:39.167719: I tensorflow/core/common_runtime/pluggable_device/pluggable_device_factory.cc:305] Could not identify NUMA node of platform GPU ID 0, defaulting to 0. Your kernel may not have been built with NUMA support.\n",
      "2023-03-09 07:22:39.167825: I tensorflow/core/common_runtime/pluggable_device/pluggable_device_factory.cc:271] Created TensorFlow device (/job:localhost/replica:0/task:0/device:GPU:0 with 0 MB memory) -> physical PluggableDevice (device: 0, name: METAL, pci bus id: <undefined>)\n"
     ]
    }
   ],
   "source": [
    "import tensorflow as tf\n",
    "from keras.models import Model\n",
    "from keras.layers import Dense, Input\n",
    "from keras.optimizers import Adam\n",
    "\n",
    "input = Input(shape = (X_train.shape[1],))\n",
    "output = Dense(3, activation = \"softmax\")(input)\n",
    "\n",
    "Krmodel = Model(inputs = input, outputs = output)\n",
    "\n",
    "opt = Adam(learning_rate = 0.001)\n",
    "Krmodel.compile(loss = \"binary_crossentropy\", optimizer=opt, metrics = [\"accuracy\"])\n",
    "Krmodel.summary()"
   ]
  },
  {
   "cell_type": "code",
   "execution_count": 8,
   "metadata": {},
   "outputs": [
    {
     "name": "stdout",
     "output_type": "stream",
     "text": [
      "Train\n",
      "--- 0.009154081344604492 seconds ---\n"
     ]
    },
    {
     "ename": "TypeError",
     "evalue": "predict() missing 1 required positional argument: 'X'",
     "output_type": "error",
     "traceback": [
      "\u001b[0;31m---------------------------------------------------------------------------\u001b[0m",
      "\u001b[0;31mTypeError\u001b[0m                                 Traceback (most recent call last)",
      "\u001b[1;32m/Users/phanvanhung/TTNT/multi_logisticReg.ipynb Cell 8\u001b[0m in \u001b[0;36m6\n\u001b[1;32m      <a href='vscode-notebook-cell:/Users/phanvanhung/TTNT/multi_logisticReg.ipynb#X10sZmlsZQ%3D%3D?line=3'>4</a>\u001b[0m LR\u001b[39m.\u001b[39mfit(X_train,Y_train)\n\u001b[1;32m      <a href='vscode-notebook-cell:/Users/phanvanhung/TTNT/multi_logisticReg.ipynb#X10sZmlsZQ%3D%3D?line=4'>5</a>\u001b[0m \u001b[39mprint\u001b[39m(\u001b[39m\"\u001b[39m\u001b[39m--- \u001b[39m\u001b[39m%s\u001b[39;00m\u001b[39m seconds ---\u001b[39m\u001b[39m\"\u001b[39m \u001b[39m%\u001b[39m (time\u001b[39m.\u001b[39mtime() \u001b[39m-\u001b[39m start_time))\n\u001b[0;32m----> <a href='vscode-notebook-cell:/Users/phanvanhung/TTNT/multi_logisticReg.ipynb#X10sZmlsZQ%3D%3D?line=5'>6</a>\u001b[0m Y_pred \u001b[39m=\u001b[39m NumpyLogisticReg\u001b[39m.\u001b[39;49mpredict(X_train)\n\u001b[1;32m      <a href='vscode-notebook-cell:/Users/phanvanhung/TTNT/multi_logisticReg.ipynb#X10sZmlsZQ%3D%3D?line=6'>7</a>\u001b[0m acc \u001b[39m=\u001b[39m accuracy(Y_pred, Y_train, classes)\n\u001b[1;32m      <a href='vscode-notebook-cell:/Users/phanvanhung/TTNT/multi_logisticReg.ipynb#X10sZmlsZQ%3D%3D?line=8'>9</a>\u001b[0m \u001b[39mprint\u001b[39m(\u001b[39m\"\u001b[39m\u001b[39mTest\u001b[39m\u001b[39m\"\u001b[39m)\n",
      "\u001b[0;31mTypeError\u001b[0m: predict() missing 1 required positional argument: 'X'"
     ]
    }
   ],
   "source": [
    "print(\"Train\")\n",
    "start_time = time.time()\n",
    "LR = NumpyLogisticReg(lr = 0.001, iters = 500, num_class = num_class,classes = classes)\n",
    "LR.fit(X_train,Y_train)\n",
    "print(\"--- %s seconds ---\" % (time.time() - start_time))\n",
    "Y_pred = NumpyLogisticReg.predict(X_train)\n",
    "acc = accuracy(Y_pred, Y_train, classes)\n",
    "print(acc)\n",
    "\n",
    "print(\"Test\")\n",
    "start_time = time.time()\n",
    "Y_pred = LR.predict(X_test)\n",
    "print(\"--- %s seconds ---\" % (time.time() - start_time))\n",
    "\n",
    "acc = accuracy(Y_pred, Y_test, classes)\n",
    "print(acc)"
   ]
  },
  {
   "cell_type": "code",
   "execution_count": null,
   "metadata": {},
   "outputs": [
    {
     "name": "stdout",
     "output_type": "stream",
     "text": [
      "Train\n",
      "--- 0.39046502113342285 seconds ---\n",
      "0.9833333333333333\n",
      "Test\n",
      "--- 0.00014781951904296875 seconds ---\n",
      "0.9333333333333333\n"
     ]
    }
   ],
   "source": [
    "print(\"Train\")\n",
    "start_time = time.time()\n",
    "PythonLG = PythonLogisticReg(0.001, 500, num_class, classes)\n",
    "PythonLG.fit(X_train, Y_train)\n",
    "\n",
    "print(\"--- %s seconds ---\" % (time.time() - start_time))\n",
    "Y_pred = PythonLG.predict(X_train)\n",
    "acc = accuracy(Y_pred, Y_train, classes)\n",
    "print(acc)\n",
    "print(\"Test\")\n",
    "start_time = time.time()\n",
    "Y_pred = PythonLG.predict(X_test)\n",
    "print(\"--- %s seconds ---\" % (time.time() - start_time))\n",
    "\n",
    "acc = accuracy(Y_pred, Y_test, classes)\n",
    "print(acc)"
   ]
  },
  {
   "cell_type": "code",
   "execution_count": null,
   "metadata": {},
   "outputs": [
    {
     "name": "stdout",
     "output_type": "stream",
     "text": [
      "Train\n"
     ]
    },
    {
     "name": "stderr",
     "output_type": "stream",
     "text": [
      "2023-03-09 07:22:14.779453: W tensorflow/core/platform/profile_utils/cpu_utils.cc:128] Failed to get CPU frequency: 0 Hz\n",
      "2023-03-09 07:22:14.903793: I tensorflow/core/grappler/optimizers/custom_graph_optimizer_registry.cc:113] Plugin optimizer for device_type GPU is enabled.\n"
     ]
    },
    {
     "name": "stdout",
     "output_type": "stream",
     "text": [
      "4/4 [==============================] - 0s 10ms/step - loss: 0.3239 - accuracy: 0.8583\n",
      "0.8583333492279053\n",
      "--- 10.316765069961548 seconds ---\n",
      "Test\n",
      "1/1 [==============================] - 0s 38ms/step - loss: 0.3121 - accuracy: 0.7667\n",
      "0.7666667103767395\n",
      "--- 0.052453041076660156 seconds ---\n"
     ]
    },
    {
     "name": "stderr",
     "output_type": "stream",
     "text": [
      "2023-03-09 07:22:24.990143: I tensorflow/core/grappler/optimizers/custom_graph_optimizer_registry.cc:113] Plugin optimizer for device_type GPU is enabled.\n"
     ]
    }
   ],
   "source": [
    "print(\"Train\")\n",
    "start_time = time.time()\n",
    "Krmodel.fit(X_train,tmpY_train, epochs = 500,verbose = False)\n",
    "print(Krmodel.evaluate(X_train, tmpY_train)[1])\n",
    "print(\"--- %s seconds ---\" % (time.time() - start_time))\n",
    "\n",
    "print(\"Test\")\n",
    "start_time = time.time()\n",
    "print(Krmodel.evaluate(X_test, tmpY_test)[1])\n",
    "print(\"--- %s seconds ---\" % (time.time() - start_time))\n"
   ]
  },
  {
   "cell_type": "code",
   "execution_count": null,
   "metadata": {},
   "outputs": [
    {
     "name": "stdout",
     "output_type": "stream",
     "text": [
      "WARNING:tensorflow:From /opt/homebrew/Caskroom/miniforge/base/envs/tf/lib/python3.9/site-packages/tensorflow/python/compat/v2_compat.py:107: disable_resource_variables (from tensorflow.python.ops.variable_scope) is deprecated and will be removed in a future version.\n",
      "Instructions for updating:\n",
      "non-resource variables are not supported in the long term\n",
      "WARNING:tensorflow:From /opt/homebrew/Caskroom/miniforge/base/envs/tf/lib/python3.9/site-packages/tensorflow/python/util/dispatch.py:1082: softmax_cross_entropy_with_logits (from tensorflow.python.ops.nn_ops) is deprecated and will be removed in a future version.\n",
      "Instructions for updating:\n",
      "\n",
      "Future major versions of TensorFlow will allow gradients to flow\n",
      "into the labels input on backprop by default.\n",
      "\n",
      "See `tf.nn.softmax_cross_entropy_with_logits_v2`.\n",
      "\n",
      "Train\n"
     ]
    },
    {
     "name": "stderr",
     "output_type": "stream",
     "text": [
      "2023-03-09 07:22:25.195787: I tensorflow/core/common_runtime/pluggable_device/pluggable_device_factory.cc:305] Could not identify NUMA node of platform GPU ID 0, defaulting to 0. Your kernel may not have been built with NUMA support.\n",
      "2023-03-09 07:22:25.195807: I tensorflow/core/common_runtime/pluggable_device/pluggable_device_factory.cc:271] Created TensorFlow device (/job:localhost/replica:0/task:0/device:GPU:0 with 0 MB memory) -> physical PluggableDevice (device: 0, name: METAL, pci bus id: <undefined>)\n",
      "2023-03-09 07:22:25.196559: I tensorflow/compiler/mlir/mlir_graph_optimization_pass.cc:354] MLIR V1 optimization pass is not enabled\n",
      "2023-03-09 07:22:25.197226: I tensorflow/core/grappler/optimizers/custom_graph_optimizer_registry.cc:113] Plugin optimizer for device_type GPU is enabled.\n",
      "2023-03-09 07:22:25.200200: I tensorflow/core/grappler/optimizers/custom_graph_optimizer_registry.cc:113] Plugin optimizer for device_type GPU is enabled.\n"
     ]
    },
    {
     "name": "stdout",
     "output_type": "stream",
     "text": [
      "Accuracy: 0.975\n",
      "--- 2.2629659175872803 seconds ---\n",
      "Test\n",
      "Accuracy: 0.9333334\n",
      "--- 0.007632017135620117 seconds ---\n"
     ]
    },
    {
     "name": "stderr",
     "output_type": "stream",
     "text": [
      "2023-03-09 07:22:27.445691: I tensorflow/core/grappler/optimizers/custom_graph_optimizer_registry.cc:113] Plugin optimizer for device_type GPU is enabled.\n"
     ]
    }
   ],
   "source": [
    "import tensorflow.compat.v1 as tf\n",
    "tf.disable_v2_behavior()\n",
    "learning_rate = 0.001\n",
    "num_epochs = 500\n",
    "\n",
    "with tf.name_scope(\"Declaring_placeholder\"):\n",
    "    X = tf.placeholder(tf.float32, [None, 4])\n",
    "    y = tf.placeholder(tf.float32, [None, 3])\n",
    "    \n",
    "with tf.name_scope(\"Declaring_variables\"):\n",
    "    W = tf.Variable(tf.zeros([4, 3]))\n",
    "    b = tf.Variable(tf.zeros([3]))\n",
    "    \n",
    "with tf.name_scope(\"Declaring_functions\"):\n",
    "    y_ = tf.nn.softmax(tf.add(tf.matmul(X, W), b))\n",
    "\n",
    "with tf.name_scope(\"calculating_cost\"):\n",
    "    cost = tf.nn.softmax_cross_entropy_with_logits(labels=y, logits=y_)\n",
    "with tf.name_scope(\"declaring_gradient_descent\"):\n",
    "    optimizer = tf.train.GradientDescentOptimizer(learning_rate=learning_rate).minimize(cost)\n",
    "\n",
    "print(\"Train\")\n",
    "start_time = time.time()\n",
    "with tf.name_scope(\"starting_tensorflow_session\"):\n",
    "    with tf.Session() as sess:\n",
    "        sess.run(tf.global_variables_initializer())\n",
    "        for epoch in range(num_epochs):\n",
    "            cost_in_each_epoch = 0\n",
    "            _, c = sess.run([optimizer, cost], feed_dict={X: X_train, y: tmpY_train})\n",
    "            cost_in_each_epoch += c\n",
    "\n",
    "        correct_prediction = tf.equal(tf.argmax(y_, 1), tf.argmax(y, 1))\n",
    "        accuracy = tf.reduce_mean(tf.cast(correct_prediction, tf.float32))\n",
    "        print(\"Accuracy:\", accuracy.eval({X: X_train, y: tmpY_train}))\n",
    "        print(\"--- %s seconds ---\" % (time.time() - start_time))\n",
    "\n",
    "        print(\"Test\")\n",
    "        start_time = time.time()\n",
    "        print(\"Accuracy:\", accuracy.eval({X: X_test, y: tmpY_test}))\n",
    "        print(\"--- %s seconds ---\" % (time.time() - start_time))"
   ]
  }
 ],
 "metadata": {
  "kernelspec": {
   "display_name": "tf",
   "language": "python",
   "name": "python3"
  },
  "language_info": {
   "codemirror_mode": {
    "name": "ipython",
    "version": 3
   },
   "file_extension": ".py",
   "mimetype": "text/x-python",
   "name": "python",
   "nbconvert_exporter": "python",
   "pygments_lexer": "ipython3",
   "version": "3.9.13"
  },
  "orig_nbformat": 4
 },
 "nbformat": 4,
 "nbformat_minor": 2
}
